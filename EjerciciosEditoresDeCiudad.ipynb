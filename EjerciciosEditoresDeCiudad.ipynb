{
  "nbformat": 4,
  "nbformat_minor": 0,
  "metadata": {
    "colab": {
      "provenance": [],
      "collapsed_sections": []
    },
    "kernelspec": {
      "name": "python3",
      "display_name": "Python 3"
    },
    "language_info": {
      "name": "python"
    }
  },
  "cells": [
    {
      "cell_type": "markdown",
      "source": [
        "<hr size=10 noshade color=\"red\">\n",
        "\n",
        "<div align=\"left\">\n",
        "<p><img alt=\"IUDigital\" height=\"100px\" src=\"https://www.iudigital.edu.co/Style%20Library/images/logo-escudo.png\" align=\"left\" hspace=\"10px\" vspace=\"0px\"></p></div>\n",
        "<div align=\"center\">\n",
        "<p><img alt=\"CasaDeLasEstrategias\" height=\"100px\" src=\"https://pbs.twimg.com/profile_images/850363196250759168/NW9GM58u_400x400.jpg\" align=\"left\" hspace=\"10px\" vspace=\"0px\"></p></div>\n",
        "<div align=\"right\">\n",
        "<p><img alt=\"CasaDeLasEstrategias\" height=\"100px\" src=\"https://casadelasestrategias.com/wp-content/uploads/2021/07/Logo-casa-10-anos.png\" align=\"left\" hspace=\"10px\" vspace=\"0px\"></p></div>\n",
        "\n",
        "\n",
        "\n",
        "\n",
        "\n",
        "\n",
        "<br></br>\n",
        "<br></br>\n",
        "<br></br>\n",
        "<p>\n",
        "<h1> <b><center> Conceptos basicos de programación </b> </h1>\n",
        "<hr size=10 noshade color=\"red\">\n",
        "</p>\n",
        "<p>\n",
        "<center>\n",
        "<img alt=\"CC\" height=\"70px\" src=\"https://creativecommons.org/images/deed/cc_blue_x2.png\" align=\"center\" hspace=\"0px\" vspace=\"0px\">\n",
        "<img alt=\"Attribution\" height=\"70px\" src=\"https://creativecommons.org/images/deed/attribution_icon_blue_x2.png\" align=\"center\" hspace=\"0px\" vspace=\"0px\">\n",
        "<img alt=\"NC\" height=\"70px\" src=\"https://creativecommons.org/images/deed/nc_blue_x2.png\" align=\"center\" hspace=\"0px\" vspace=\"0px\">\n",
        "<img alt=\"SA\" height=\"70px\" src=\"https://creativecommons.org/images/deed/sa_blue_x2.png\" align=\"center\" hspace=\"0px\" vspace=\"0px\">\n",
        "</p>"
      ],
      "metadata": {
        "id": "0WQ33vSvVtsA"
      }
    },
    {
      "cell_type": "markdown",
      "source": [
        "# **El teorema del programa estructurado**\n",
        "## ó, de qué están hechos los programas\n",
        "\n",
        "Aunque parezca increíble todos los programas de computación desde el cálculo del índice de masa corporal hasta Facebook o Instagram están hechos mediante tres estructuras fundamentales. Estas estructuras son:\n",
        "*  Secuencia\n",
        "*  Condición\n",
        "*  Repetición\n",
        "\n",
        "La imagen a continuación muestra un ejemplo de cada uno de estos elementos.\n",
        "\n",
        "\n",
        "![](https://www.edix.com/es/wp-content/uploads/sites/2/2021/07/estructuras-programacion-estructurada-1024x352.jpg)\n",
        "\n",
        "Tomado de www.edix.com"
      ],
      "metadata": {
        "id": "6R8Wbv038Zb1"
      }
    },
    {
      "cell_type": "markdown",
      "source": [
        "Hagamos el ejemplo de una secuencia, calculemos el área de un rectángulo de base 2cm y altura 3cm\n",
        "Para esto necesitamos un espacio de memoria donde almacenar los datos, esto se hace mediante el operador `=` y se asigna el valor a lo que conocemos como una variable de la siguiente forma:\n"
      ],
      "metadata": {
        "id": "2Wd-wTX2WLNS"
      }
    },
    {
      "cell_type": "markdown",
      "source": [
        "Vamos dale clic en ejecutar (►)"
      ],
      "metadata": {
        "id": "jyql-9bf_3EH"
      }
    },
    {
      "cell_type": "code",
      "execution_count": null,
      "metadata": {
        "id": "Gmrp9lRWVowP"
      },
      "outputs": [],
      "source": [
        "base = 2\n",
        "altura = 3"
      ]
    },
    {
      "cell_type": "markdown",
      "source": [
        "Luego de darle clic en ejecutar (►) ya tendremos estos valores disponibles para calcular el área.\n",
        "Ahora usando el mismo proceso de asignación calcularemos el área con la siguiente operación aritmética:\n",
        "\n",
        "`area = base * altura`\n"
      ],
      "metadata": {
        "id": "AkcOuB5VAS2v"
      }
    },
    {
      "cell_type": "code",
      "source": [
        "area = base * altura"
      ],
      "metadata": {
        "id": "Jb5sVRJSAawj"
      },
      "execution_count": null,
      "outputs": []
    },
    {
      "cell_type": "markdown",
      "source": [
        "Ya tenemos el calculo del área, ahora necesitamos una forma de informar su resultado.\n",
        "Python, el lenguaje de programación con el cual estamos realizando nuestro primer programa permite informar los datos con una instrucción llamada `print`.\n",
        "\n",
        "Usemos la función print para informar el área del rectángulo\n"
      ],
      "metadata": {
        "id": "mr0txYy3Ac6D"
      }
    },
    {
      "cell_type": "code",
      "source": [
        "print(area)"
      ],
      "metadata": {
        "id": "zwiLzqUZBjY-",
        "outputId": "6e687547-c7f6-4e66-b525-8375437d392c",
        "colab": {
          "base_uri": "https://localhost:8080/"
        }
      },
      "execution_count": null,
      "outputs": [
        {
          "output_type": "stream",
          "name": "stdout",
          "text": [
            "6\n"
          ]
        }
      ]
    },
    {
      "cell_type": "markdown",
      "source": [
        "Listo, ya realizamos nuestro primer programa en Python que permite calcular el área de un rectángulo.\n",
        "Este procedimiento realizado paso a paso se llama secuencia. Ahora calculemos el área de un triangulo rectángulo de base dos y altura seis.\n"
      ],
      "metadata": {
        "id": "FERuM6_9CGUu"
      }
    },
    {
      "cell_type": "code",
      "source": [
        "basetriangulo = 2\n",
        "alturatriangulo = 6\n",
        "areatriangulo = (basetriangulo*alturatriangulo)/2\n",
        "print(areatriangulo)"
      ],
      "metadata": {
        "id": "GnQrHZhxCHN4"
      },
      "execution_count": null,
      "outputs": []
    },
    {
      "cell_type": "markdown",
      "source": [
        "#Excelente, ya tenemos nuestro segundo programa de Python"
      ],
      "metadata": {
        "id": "CURfO8Y7CVJi"
      }
    },
    {
      "cell_type": "markdown",
      "source": [
        "Ahora, si nos preguntan será que la sumatoria de los ángulos de un triangulo ingresados por teclado corresponden a los ángulos de un triángulo, ¿Cómo precederíamos?\n",
        "Por teoría geométrica sabemos que la suma de los ángulos de un triangulo debe ser exactamente igual a 180 grados. Por lo tanto, si recibimos tres ángulos y los sumamos estos deberían dar 180 para poder ser los ángulos de un triángulo.\n",
        "Vamos a programarlo.\n"
      ],
      "metadata": {
        "id": "c_QtQ61TC_ld"
      }
    },
    {
      "cell_type": "markdown",
      "source": [
        "Primero debemos recibir los tres ángulos y le vamos a poner letras griegas (las matemáticas en letras griegas se ven más lindas), la forma en la cual Python nos permite recibir información del teclado es con la función `input`, esta función o instrucción permite recibir datos y almacenarlos en una variable como lo hicimos previamente con el símbolo `=`, ahora convertiremos a un numero entero lo ingresado por teclado con la instrucción `int`."
      ],
      "metadata": {
        "id": "eOvr3G7jDuV3"
      }
    },
    {
      "cell_type": "code",
      "source": [
        "alfa = (int(input('Ingresar Angulo α alfa: ')))\n",
        "beta = (int(input('Ingresar Angulo β beta: ')))\n",
        "theta = (int(input('Ingresar Angulo θ theta: ')))"
      ],
      "metadata": {
        "id": "F72SZoMkDBm2"
      },
      "execution_count": null,
      "outputs": []
    },
    {
      "cell_type": "markdown",
      "source": [
        "Ahora para establecer si la suma de los ángulos cumple con la regla geométrica debemos sumar los ángulos.\n",
        "Sumemos los ángulos y guardemos dicha suma en una variable llamada `sumangulos` e imprimamos dicha suma con la función print\n"
      ],
      "metadata": {
        "id": "u3jfWeaNEFMT"
      }
    },
    {
      "cell_type": "code",
      "source": [
        "sumangulos = alfa + beta + theta\n",
        "print(sumangulos)"
      ],
      "metadata": {
        "id": "Lou_3DN8EFsc"
      },
      "execution_count": null,
      "outputs": []
    },
    {
      "cell_type": "markdown",
      "source": [
        "Ahora la instrucción `if` permite establecer una condición como VERDADERA o FALSA, dependiendo de su operación inicial para nuestro caso, la operación es la siguiente \n",
        "Sumangulo = 180\n",
        "Si esta respuesta es VERDADERA, es decir, sumangulo es igual a 180. Podemos decir que los ángulos ofrecidos corresponden a los de un triángulo.\n",
        "Programemos la receta de una condición.\n"
      ],
      "metadata": {
        "id": "l9x9Fy3IERyU"
      }
    },
    {
      "cell_type": "code",
      "source": [
        "if sumangulos == 180:\n",
        "    print('Angulos corresponden a los de un triangulo ▲')\n",
        "else:\n",
        "    print('Angulos NO corresponden a los de un triangulo ▲')"
      ],
      "metadata": {
        "id": "YFenbYlGERdn"
      },
      "execution_count": null,
      "outputs": []
    },
    {
      "cell_type": "markdown",
      "source": [
        "Excelente. Ahora ya sabemos crear una condición y establecer una forma de dividir nuestro código en dos o más ramas de acuerdo con las respuestas de nuestra estructura."
      ],
      "metadata": {
        "id": "aItRudM1G2IP"
      }
    },
    {
      "cell_type": "markdown",
      "source": [
        "Ahora, si nos dicen que necesitamos calcular el área de 100 triángulos ¿Cómo lo haríamos?\n",
        "Para esto existen las repeticiones en la programación, estas se conocen como ciclos.\n",
        "Vamos a calcular para cinco repeticiones el área de un triangulo rectángulo ingresando por teclado la base y la altura.\n",
        "La receta es muy sencilla, se utiliza la instrucción `for` para repetir una cantidad fija de veces, en nuestro caso, cinco. Lo demás es seguir la receta. Vamos-->\n"
      ],
      "metadata": {
        "id": "AAq9AKI0G2wM"
      }
    },
    {
      "cell_type": "code",
      "source": [
        "for i in range(5):\n",
        "# Usando el simbolo numeral podemos escribir comentarios en el código, es decir, \n",
        "# lineas de código que no serán tenidas en cuenta y sirven para interpretar mejor nuestro código\n",
        "# o incluso sirven para recordar lo que hicimos en el pasado. :p\n",
        "    base = int(input('Ingresar el valor de la base para el triangulo {}: '.format(i+1)))  \n",
        "    #la instruccion .format permite agregar a nuestro texto el numero del triangul que estamos registrando\n",
        "    altura = int(input('Ingresar el valor de la altura para el triangulo {}: '.format(i+1)))\n",
        "    area = (base * altura)/2\n",
        "    print('El area del triangulo {} es de {}'.format(i+1,area))\n",
        "print('FIN')"
      ],
      "metadata": {
        "id": "MLSABCKqHiBh"
      },
      "execution_count": null,
      "outputs": []
    },
    {
      "cell_type": "markdown",
      "source": [
        "Increíble, no solo has realizado tu primer programa, sino que has realizado una secuencia, una condición y una repetición o ciclo.\n",
        "FELICITACIONES\n",
        "Programar es hasta sencillo, NO?\n"
      ],
      "metadata": {
        "id": "7nb_TiziI4YZ"
      }
    },
    {
      "cell_type": "markdown",
      "source": [
        "Siguiendo estas recetas de programación podremos realizar el ejercicio que sigue a continuación, calculemos usando programación los siguientes casos:\n"
      ],
      "metadata": {
        "id": "q8ggcutvJBlm"
      }
    },
    {
      "cell_type": "markdown",
      "source": [
        "---"
      ],
      "metadata": {
        "id": "0eGYDGgV_EtU"
      }
    },
    {
      "cell_type": "markdown",
      "source": [
        "#Calcular el área de un cuadrado."
      ],
      "metadata": {
        "id": "tzOnCuK1-84N"
      }
    },
    {
      "cell_type": "code",
      "source": [
        "# Realiza el calculo de un cuadrado aquí"
      ],
      "metadata": {
        "id": "b6Y1auag_AeK"
      },
      "execution_count": null,
      "outputs": []
    },
    {
      "cell_type": "markdown",
      "source": [
        "#Calcular el área de un círculo.\n",
        "#¿Cuanto vale π?"
      ],
      "metadata": {
        "id": "qGzvBk2P_N3e"
      }
    },
    {
      "cell_type": "code",
      "source": [
        "# Realiza el calculo del círculo aquí"
      ],
      "metadata": {
        "id": "aZDquCjp_N3f"
      },
      "execution_count": null,
      "outputs": []
    },
    {
      "cell_type": "markdown",
      "source": [
        "#Calcular cuánto deben sumar los ángulos de un cuadrado y validar si dicha interpretación es correcta.\n"
      ],
      "metadata": {
        "id": "W3mfXTHt_mMk"
      }
    },
    {
      "cell_type": "markdown",
      "source": [
        "|   Letra   |             Descripción            |\n",
        "|:---------:|:----------------------------------:|\n",
        "|     α     |    Letra minuscula Griega ALPHA    |\n",
        "|     β     |     Letra minuscula Griega BETA    |\n",
        "|     γ     |    Letra minuscula Griega GAMMA    |\n",
        "|     δ     |    Letra minuscula Griega DELTA    |\n",
        "|     ε     |   Letra minuscula Griega EPSILON   |\n",
        "|     ζ     |     Letra minuscula Griega ZETA    |\n",
        "|     η     |     Letra minuscula Griega ETA     |\n",
        "|     θ     |    Letra minuscula Griega THETA    |\n",
        "|     ι     |     Letra minuscula Griega IOTA    |\n",
        "|     κ     |    Letra minuscula Griega KAPPA    |\n",
        "|     λ     |    Letra minuscula Griega LAMDA    |\n",
        "|     μ     |      Letra minuscula Griega MU     |\n",
        "|     ν     |      Letra minuscula Griega NU     |\n",
        "|     ξ     |      Letra minuscula Griega XI     |\n",
        "|     ο     |   Letra minuscula Griega OMICRON   |\n",
        "|     π     |      Letra minuscula Griega PI     |\n",
        "|     ρ     |     Letra minuscula Griega RHO     |\n",
        "|     ς     | Letra minuscula Griega Final SIGMA |\n",
        "|     σ     |    Letra minuscula Griega SIGMA    |\n",
        "|     τ     |     Letra minuscula Griega TAU     |\n",
        "|     υ     |   Letra minuscula Griega UPSILON   |\n",
        "|     φ     |     Letra minuscula Griega PHI     |\n",
        "|     χ     |     Letra minuscula Griega CHI     |\n",
        "|     ψ     |     Letra minuscula Griega PSI     |\n",
        "|     ω     |    Letra minuscula Griega OMEGA    |"
      ],
      "metadata": {
        "id": "HzYdDcDTBGss"
      }
    },
    {
      "cell_type": "code",
      "source": [
        "# Realiza la validación de los ángulos aquí\n",
        "# Ayuda\n",
        "alfa = (int(input('Ingresar Angulo α alfa: ')))\n",
        "beta = (int(input('Ingresar Angulo β beta: ')))\n",
        "theta = (int(input('Ingresar Angulo θ theta: ')))\n",
        "rho = (int(input('Ingresar Angulo ρ rho: ')))"
      ],
      "metadata": {
        "id": "Hn-7Llt8_mMk"
      },
      "execution_count": null,
      "outputs": []
    },
    {
      "cell_type": "code",
      "source": [
        "#Realizar la validación aquí"
      ],
      "metadata": {
        "id": "AKJCdWUoB0pn"
      },
      "execution_count": null,
      "outputs": []
    },
    {
      "cell_type": "markdown",
      "source": [
        "#Calcular el área de 100 cuadrados."
      ],
      "metadata": {
        "id": "_fKWPqGIB7f8"
      }
    },
    {
      "cell_type": "code",
      "source": [
        "# Realiza el calculo de los cuadrados aquí"
      ],
      "metadata": {
        "id": "gY24vgmqB7f9"
      },
      "execution_count": null,
      "outputs": []
    }
  ]
}